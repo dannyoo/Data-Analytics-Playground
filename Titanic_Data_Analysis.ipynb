{
  "nbformat": 4,
  "nbformat_minor": 0,
  "metadata": {
    "colab": {
      "name": "HW2.ipynb",
      "version": "0.3.2",
      "provenance": [],
      "include_colab_link": true
    },
    "kernelspec": {
      "name": "python3",
      "display_name": "Python 3"
    }
  },
  "cells": [
    {
      "cell_type": "markdown",
      "metadata": {
        "id": "view-in-github",
        "colab_type": "text"
      },
      "source": [
        "<a href=\"https://colab.research.google.com/github/dannyoo/Data-Analytics-Playground/blob/master/Titanic_Data_Analysis.ipynb\" target=\"_parent\"><img src=\"https://colab.research.google.com/assets/colab-badge.svg\" alt=\"Open In Colab\"/></a>"
      ]
    },
    {
      "metadata": {
        "id": "gdLWJILcAQBo",
        "colab_type": "code",
        "colab": {}
      },
      "cell_type": "code",
      "source": [
        "import pandas as pd\n",
        "import numpy as np"
      ],
      "execution_count": 0,
      "outputs": []
    },
    {
      "metadata": {
        "id": "tSgY4VXsAcTU",
        "colab_type": "code",
        "colab": {}
      },
      "cell_type": "code",
      "source": [
        "df = pd.read_csv('https://raw.githubusercontent.com/Geoyi/Cleaning-Titanic-Data/master/titanic_clean.csv')"
      ],
      "execution_count": 0,
      "outputs": []
    },
    {
      "metadata": {
        "id": "1wyje9f2Ayen",
        "colab_type": "code",
        "outputId": "8e5e8968-4580-45f5-825e-bcaad16c757b",
        "colab": {
          "base_uri": "https://localhost:8080/",
          "height": 547
        }
      },
      "cell_type": "code",
      "source": [
        "df.head()"
      ],
      "execution_count": 0,
      "outputs": [
        {
          "output_type": "execute_result",
          "data": {
            "text/html": [
              "<div>\n",
              "<style scoped>\n",
              "    .dataframe tbody tr th:only-of-type {\n",
              "        vertical-align: middle;\n",
              "    }\n",
              "\n",
              "    .dataframe tbody tr th {\n",
              "        vertical-align: top;\n",
              "    }\n",
              "\n",
              "    .dataframe thead th {\n",
              "        text-align: right;\n",
              "    }\n",
              "</style>\n",
              "<table border=\"1\" class=\"dataframe\">\n",
              "  <thead>\n",
              "    <tr style=\"text-align: right;\">\n",
              "      <th></th>\n",
              "      <th>Unnamed: 0</th>\n",
              "      <th>pclass</th>\n",
              "      <th>survived</th>\n",
              "      <th>name</th>\n",
              "      <th>sex</th>\n",
              "      <th>age</th>\n",
              "      <th>sibsp</th>\n",
              "      <th>parch</th>\n",
              "      <th>ticket</th>\n",
              "      <th>fare</th>\n",
              "      <th>cabin</th>\n",
              "      <th>embarked</th>\n",
              "      <th>boat</th>\n",
              "      <th>body</th>\n",
              "      <th>home.dest</th>\n",
              "      <th>has_cabin_number</th>\n",
              "    </tr>\n",
              "  </thead>\n",
              "  <tbody>\n",
              "    <tr>\n",
              "      <th>0</th>\n",
              "      <td>1</td>\n",
              "      <td>1.0</td>\n",
              "      <td>1.0</td>\n",
              "      <td>Allen, Miss. Elisabeth Walton</td>\n",
              "      <td>female</td>\n",
              "      <td>29.0000</td>\n",
              "      <td>0.0</td>\n",
              "      <td>0.0</td>\n",
              "      <td>24160</td>\n",
              "      <td>211.3375</td>\n",
              "      <td>B5</td>\n",
              "      <td>S</td>\n",
              "      <td>2</td>\n",
              "      <td>NaN</td>\n",
              "      <td>St Louis, MO</td>\n",
              "      <td>1</td>\n",
              "    </tr>\n",
              "    <tr>\n",
              "      <th>1</th>\n",
              "      <td>2</td>\n",
              "      <td>1.0</td>\n",
              "      <td>1.0</td>\n",
              "      <td>Allison, Master. Hudson Trevor</td>\n",
              "      <td>male</td>\n",
              "      <td>0.9167</td>\n",
              "      <td>1.0</td>\n",
              "      <td>2.0</td>\n",
              "      <td>113781</td>\n",
              "      <td>151.5500</td>\n",
              "      <td>C22 C26</td>\n",
              "      <td>S</td>\n",
              "      <td>11</td>\n",
              "      <td>NaN</td>\n",
              "      <td>Montreal, PQ / Chesterville, ON</td>\n",
              "      <td>1</td>\n",
              "    </tr>\n",
              "    <tr>\n",
              "      <th>2</th>\n",
              "      <td>3</td>\n",
              "      <td>1.0</td>\n",
              "      <td>0.0</td>\n",
              "      <td>Allison, Miss. Helen Loraine</td>\n",
              "      <td>female</td>\n",
              "      <td>2.0000</td>\n",
              "      <td>1.0</td>\n",
              "      <td>2.0</td>\n",
              "      <td>113781</td>\n",
              "      <td>151.5500</td>\n",
              "      <td>C22 C26</td>\n",
              "      <td>S</td>\n",
              "      <td>NaN</td>\n",
              "      <td>NaN</td>\n",
              "      <td>Montreal, PQ / Chesterville, ON</td>\n",
              "      <td>1</td>\n",
              "    </tr>\n",
              "    <tr>\n",
              "      <th>3</th>\n",
              "      <td>4</td>\n",
              "      <td>1.0</td>\n",
              "      <td>0.0</td>\n",
              "      <td>Allison, Mr. Hudson Joshua Creighton</td>\n",
              "      <td>male</td>\n",
              "      <td>30.0000</td>\n",
              "      <td>1.0</td>\n",
              "      <td>2.0</td>\n",
              "      <td>113781</td>\n",
              "      <td>151.5500</td>\n",
              "      <td>C22 C26</td>\n",
              "      <td>S</td>\n",
              "      <td>NaN</td>\n",
              "      <td>135.0</td>\n",
              "      <td>Montreal, PQ / Chesterville, ON</td>\n",
              "      <td>1</td>\n",
              "    </tr>\n",
              "    <tr>\n",
              "      <th>4</th>\n",
              "      <td>5</td>\n",
              "      <td>1.0</td>\n",
              "      <td>0.0</td>\n",
              "      <td>Allison, Mrs. Hudson J C (Bessie Waldo Daniels)</td>\n",
              "      <td>female</td>\n",
              "      <td>25.0000</td>\n",
              "      <td>1.0</td>\n",
              "      <td>2.0</td>\n",
              "      <td>113781</td>\n",
              "      <td>151.5500</td>\n",
              "      <td>C22 C26</td>\n",
              "      <td>S</td>\n",
              "      <td>NaN</td>\n",
              "      <td>NaN</td>\n",
              "      <td>Montreal, PQ / Chesterville, ON</td>\n",
              "      <td>1</td>\n",
              "    </tr>\n",
              "  </tbody>\n",
              "</table>\n",
              "</div>"
            ],
            "text/plain": [
              "   Unnamed: 0  pclass  survived  \\\n",
              "0           1     1.0       1.0   \n",
              "1           2     1.0       1.0   \n",
              "2           3     1.0       0.0   \n",
              "3           4     1.0       0.0   \n",
              "4           5     1.0       0.0   \n",
              "\n",
              "                                              name     sex      age  sibsp  \\\n",
              "0                    Allen, Miss. Elisabeth Walton  female  29.0000    0.0   \n",
              "1                   Allison, Master. Hudson Trevor    male   0.9167    1.0   \n",
              "2                     Allison, Miss. Helen Loraine  female   2.0000    1.0   \n",
              "3             Allison, Mr. Hudson Joshua Creighton    male  30.0000    1.0   \n",
              "4  Allison, Mrs. Hudson J C (Bessie Waldo Daniels)  female  25.0000    1.0   \n",
              "\n",
              "   parch  ticket      fare    cabin embarked boat   body  \\\n",
              "0    0.0   24160  211.3375       B5        S    2    NaN   \n",
              "1    2.0  113781  151.5500  C22 C26        S   11    NaN   \n",
              "2    2.0  113781  151.5500  C22 C26        S  NaN    NaN   \n",
              "3    2.0  113781  151.5500  C22 C26        S  NaN  135.0   \n",
              "4    2.0  113781  151.5500  C22 C26        S  NaN    NaN   \n",
              "\n",
              "                         home.dest  has_cabin_number  \n",
              "0                     St Louis, MO                 1  \n",
              "1  Montreal, PQ / Chesterville, ON                 1  \n",
              "2  Montreal, PQ / Chesterville, ON                 1  \n",
              "3  Montreal, PQ / Chesterville, ON                 1  \n",
              "4  Montreal, PQ / Chesterville, ON                 1  "
            ]
          },
          "metadata": {
            "tags": []
          },
          "execution_count": 154
        }
      ]
    },
    {
      "metadata": {
        "id": "0doTVW-VBucc",
        "colab_type": "text"
      },
      "cell_type": "markdown",
      "source": [
        "#### 1 How many missing values are there in each column"
      ]
    },
    {
      "metadata": {
        "id": "PmvSTb85DcTO",
        "colab_type": "code",
        "outputId": "c5039756-64a9-4015-c5aa-048a488fbceb",
        "colab": {
          "base_uri": "https://localhost:8080/",
          "height": 323
        }
      },
      "cell_type": "code",
      "source": [
        "df.isnull().sum()"
      ],
      "execution_count": 0,
      "outputs": [
        {
          "output_type": "execute_result",
          "data": {
            "text/plain": [
              "Unnamed: 0             0\n",
              "pclass                 1\n",
              "survived               1\n",
              "name                   1\n",
              "sex                    1\n",
              "age                    0\n",
              "sibsp                  1\n",
              "parch                  1\n",
              "ticket                 1\n",
              "fare                   2\n",
              "cabin               1015\n",
              "embarked               0\n",
              "boat                 824\n",
              "body                1189\n",
              "home.dest            565\n",
              "has_cabin_number       0\n",
              "dtype: int64"
            ]
          },
          "metadata": {
            "tags": []
          },
          "execution_count": 155
        }
      ]
    },
    {
      "metadata": {
        "id": "UZyvYZ_KBaYf",
        "colab_type": "text"
      },
      "cell_type": "markdown",
      "source": [
        "#### 2 Changed Column Number"
      ]
    },
    {
      "metadata": {
        "id": "pLmBYCJHAzz1",
        "colab_type": "code",
        "colab": {}
      },
      "cell_type": "code",
      "source": [
        "df.columns = ['Unnamed: 0', 'pclass', 'survived', 'name', 'sex', 'age', 'sibsp',\n",
        "       'parch', 'ticket', 'fare', 'cabin', 'embarked', 'boat', 'body',\n",
        "       'home.dest', 'cabin_number']"
      ],
      "execution_count": 0,
      "outputs": []
    },
    {
      "metadata": {
        "id": "XnMLMSXSFdlt",
        "colab_type": "text"
      },
      "cell_type": "markdown",
      "source": [
        "#### 3 Change Name"
      ]
    },
    {
      "metadata": {
        "id": "2kWQ2lTiBR6R",
        "colab_type": "code",
        "outputId": "4c3516aa-1166-4dae-8b3f-fc60c1925fd0",
        "colab": {
          "base_uri": "https://localhost:8080/",
          "height": 215
        }
      },
      "cell_type": "code",
      "source": [
        "df['name'].head(10)"
      ],
      "execution_count": 0,
      "outputs": [
        {
          "output_type": "execute_result",
          "data": {
            "text/plain": [
              "0                      Allen, Miss. Elisabeth Walton\n",
              "1                     Allison, Master. Hudson Trevor\n",
              "2                       Allison, Miss. Helen Loraine\n",
              "3               Allison, Mr. Hudson Joshua Creighton\n",
              "4    Allison, Mrs. Hudson J C (Bessie Waldo Daniels)\n",
              "5                                Anderson, Mr. Harry\n",
              "6                  Andrews, Miss. Kornelia Theodosia\n",
              "7                             Andrews, Mr. Thomas Jr\n",
              "8      Appleton, Mrs. Edward Dale (Charlotte Lamson)\n",
              "9                            Artagaveytia, Mr. Ramon\n",
              "Name: name, dtype: object"
            ]
          },
          "metadata": {
            "tags": []
          },
          "execution_count": 157
        }
      ]
    },
    {
      "metadata": {
        "id": "x2EGftuMFiT8",
        "colab_type": "code",
        "outputId": "e1605dd4-7868-4258-d056-0b9946a0645a",
        "colab": {
          "base_uri": "https://localhost:8080/",
          "height": 233
        }
      },
      "cell_type": "code",
      "source": [
        "new = df[\"name\"].str.split(\", \", n = 1, expand = True) \n",
        "\n",
        "#remove name column\n",
        "df.drop(['name'], axis=1)\n",
        "\n",
        "#add first and last name\n",
        "df['last_name'] = new[0]\n",
        "df['first_name'] = new[1]\n",
        "print(df['first_name'].head())\n",
        "print(df['last_name'].head())"
      ],
      "execution_count": 0,
      "outputs": [
        {
          "output_type": "stream",
          "text": [
            "0                    Miss. Elisabeth Walton\n",
            "1                     Master. Hudson Trevor\n",
            "2                       Miss. Helen Loraine\n",
            "3               Mr. Hudson Joshua Creighton\n",
            "4    Mrs. Hudson J C (Bessie Waldo Daniels)\n",
            "Name: first_name, dtype: object\n",
            "0      Allen\n",
            "1    Allison\n",
            "2    Allison\n",
            "3    Allison\n",
            "4    Allison\n",
            "Name: last_name, dtype: object\n"
          ],
          "name": "stdout"
        }
      ]
    },
    {
      "metadata": {
        "id": "I0JyiTJqIIdc",
        "colab_type": "text"
      },
      "cell_type": "markdown",
      "source": [
        "#### 4 How many of each last name have survived?"
      ]
    },
    {
      "metadata": {
        "id": "bB0-oFNqxTGF",
        "colab_type": "text"
      },
      "cell_type": "markdown",
      "source": [
        "##### People Aboard"
      ]
    },
    {
      "metadata": {
        "id": "RTRW1kTNKSxa",
        "colab_type": "code",
        "outputId": "79e7838d-6c28-4266-f8f9-4d52e0a68df3",
        "colab": {
          "base_uri": "https://localhost:8080/",
          "height": 1133
        }
      },
      "cell_type": "code",
      "source": [
        "#How many went aboard.\n",
        "df['last_name'].value_counts()"
      ],
      "execution_count": 0,
      "outputs": [
        {
          "output_type": "execute_result",
          "data": {
            "text/plain": [
              "Sage                      11\n",
              "Andersson                 11\n",
              "Goodwin                    8\n",
              "Asplund                    8\n",
              "Davies                     7\n",
              "Carter                     6\n",
              "Smith                      6\n",
              "Ford                       6\n",
              "Skoog                      6\n",
              "Rice                       6\n",
              "Fortune                    6\n",
              "Panula                     6\n",
              "Johnson                    6\n",
              "Brown                      6\n",
              "Ryerson                    5\n",
              "Kelly                      5\n",
              "Thomas                     5\n",
              "Williams                   5\n",
              "Palsson                    5\n",
              "Lefebre                    5\n",
              "Goldsmith                  4\n",
              "Elias                      4\n",
              "Baclini                    4\n",
              "Herman                     4\n",
              "West                       4\n",
              "Becker                     4\n",
              "Ware                       4\n",
              "Vander Planke              4\n",
              "Boulos                     4\n",
              "Dean                       4\n",
              "                          ..\n",
              "Peters                     1\n",
              "Elsbury                    1\n",
              "Kalvik                     1\n",
              "Corn                       1\n",
              "Rheims                     1\n",
              "Guest                      1\n",
              "Olsvigen                   1\n",
              "Milling                    1\n",
              "Assaf Khalil               1\n",
              "Silven                     1\n",
              "Cairns                     1\n",
              "Aronsson                   1\n",
              "Johannesen-Bratthammer     1\n",
              "Ayoub                      1\n",
              "Pekoniemi                  1\n",
              "Bidois                     1\n",
              "Foreman                    1\n",
              "Colley                     1\n",
              "Pulbaum                    1\n",
              "Oxenham                    1\n",
              "Veal                       1\n",
              "Daniel                     1\n",
              "Silverthorne               1\n",
              "Norman                     1\n",
              "Harrington                 1\n",
              "Weir                       1\n",
              "Tornquist                  1\n",
              "Denbury                    1\n",
              "Connors                    1\n",
              "Kassem                     1\n",
              "Name: last_name, Length: 875, dtype: int64"
            ]
          },
          "metadata": {
            "tags": []
          },
          "execution_count": 159
        }
      ]
    },
    {
      "metadata": {
        "id": "bPFe9sX4I6S4",
        "colab_type": "code",
        "outputId": "221aa05e-f20c-40f1-ba32-c52ab91beb54",
        "colab": {
          "base_uri": "https://localhost:8080/",
          "height": 35
        }
      },
      "cell_type": "code",
      "source": [
        "# Test To See how many people with the same last name showed were on the titanic.\n",
        "y=0\n",
        "for x in df['last_name']:\n",
        "  if x == \"Andersson\":\n",
        "    y=y+1\n",
        "print(y)"
      ],
      "execution_count": 0,
      "outputs": [
        {
          "output_type": "stream",
          "text": [
            "11\n"
          ],
          "name": "stdout"
        }
      ]
    },
    {
      "metadata": {
        "id": "1ValirN8xO5M",
        "colab_type": "text"
      },
      "cell_type": "markdown",
      "source": [
        "#Survived"
      ]
    },
    {
      "metadata": {
        "id": "SATUn1J4LEvB",
        "colab_type": "code",
        "outputId": "1d412fbc-de3a-4710-bf8d-eb41f022a084",
        "colab": {
          "base_uri": "https://localhost:8080/",
          "height": 1133
        }
      },
      "cell_type": "code",
      "source": [
        "#survived values are greater than zero\n",
        "survived = df[df.survived>0]\n",
        "#count the values of names among those who survived\n",
        "survived['last_name'].value_counts()"
      ],
      "execution_count": 0,
      "outputs": [
        {
          "output_type": "execute_result",
          "data": {
            "text/plain": [
              "Brown                  5\n",
              "Fortune                4\n",
              "Asplund                4\n",
              "Ryerson                4\n",
              "Baclini                4\n",
              "Carter                 4\n",
              "Becker                 4\n",
              "Harper                 3\n",
              "Touma                  3\n",
              "Frauenthal             3\n",
              "Richards               3\n",
              "Sandstrom              3\n",
              "Nakid                  3\n",
              "Caldwell               3\n",
              "Daly                   3\n",
              "West                   3\n",
              "Coutts                 3\n",
              "Kelly                  3\n",
              "Kink-Heilmann          3\n",
              "Moubarek               3\n",
              "Murphy                 3\n",
              "Wells                  3\n",
              "McCoy                  3\n",
              "Dodge                  3\n",
              "Laroche                3\n",
              "Peter                  3\n",
              "Johnson                3\n",
              "Spedden                3\n",
              "Quick                  3\n",
              "Dean                   3\n",
              "                      ..\n",
              "Johansson Palmquist    1\n",
              "Foo                    1\n",
              "Garside                1\n",
              "Hold                   1\n",
              "Lemore                 1\n",
              "Shine                  1\n",
              "Slayter                1\n",
              "McDermott              1\n",
              "Dowdell                1\n",
              "Pinsky                 1\n",
              "Mock                   1\n",
              "Jussila                1\n",
              "Mellors                1\n",
              "Meyer                  1\n",
              "Mamee                  1\n",
              "Bazzani                1\n",
              "Moussa                 1\n",
              "Rugg                   1\n",
              "Oliva y Ocana          1\n",
              "Jermyn                 1\n",
              "Hellstrom              1\n",
              "Faunthorpe             1\n",
              "Bryhl                  1\n",
              "Endres                 1\n",
              "Midtsjo                1\n",
              "White                  1\n",
              "O'Dwyer                1\n",
              "Bystrom                1\n",
              "Bentham                1\n",
              "Bowen                  1\n",
              "Name: last_name, Length: 371, dtype: int64"
            ]
          },
          "metadata": {
            "tags": []
          },
          "execution_count": 161
        }
      ]
    }
  ]
}