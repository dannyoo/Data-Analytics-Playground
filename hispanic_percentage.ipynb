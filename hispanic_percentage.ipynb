{
  "nbformat": 4,
  "nbformat_minor": 0,
  "metadata": {
    "colab": {
      "name": "Sent - HW1.ipynb",
      "version": "0.3.2",
      "provenance": []
    },
    "kernelspec": {
      "name": "python3",
      "display_name": "Python 3"
    }
  },
  "cells": [
    {
      "metadata": {
        "id": "fJEdzLjBfPu1",
        "colab_type": "code",
        "colab": {}
      },
      "cell_type": "code",
      "source": [
        "import numpy as np\n",
        "import pandas as pd"
      ],
      "execution_count": 0,
      "outputs": []
    },
    {
      "metadata": {
        "id": "Owf26CAOmKKJ",
        "colab_type": "text"
      },
      "cell_type": "markdown",
      "source": [
        "# Most Recent Treasury\n",
        "\n",
        "We will find the average percentage of hispanics in US universities."
      ]
    },
    {
      "metadata": {
        "id": "noYU4oqdfYl1",
        "colab_type": "code",
        "colab": {}
      },
      "cell_type": "code",
      "source": [
        "f = pd.read_csv(\"https://ed-public-download.app.cloud.gov/downloads/Most-Recent-Cohorts-Treasury-Elements.csv\")"
      ],
      "execution_count": 0,
      "outputs": []
    },
    {
      "metadata": {
        "id": "LAbeXkja4CMj",
        "colab_type": "text"
      },
      "cell_type": "markdown",
      "source": [
        "### Read the dataset into a DataFrame using Pandas."
      ]
    },
    {
      "metadata": {
        "id": "JV93q_AhnnBB",
        "colab_type": "code",
        "colab": {}
      },
      "cell_type": "code",
      "source": [
        "df = pd.DataFrame(f, columns=['PCT_HISPANIC']) # removed NaN values\n",
        "\n",
        "\n",
        "df = df.dropna()\n",
        "\n"
      ],
      "execution_count": 0,
      "outputs": []
    },
    {
      "metadata": {
        "id": "yvkdM752J4CU",
        "colab_type": "code",
        "colab": {}
      },
      "cell_type": "code",
      "source": [
        "df1 = df.head(30)\n",
        "  \n",
        "df1 = pd.to_numeric(df1['PCT_HISPANIC'])\n",
        "\n"
      ],
      "execution_count": 0,
      "outputs": []
    },
    {
      "metadata": {
        "id": "Gi0xEvAp4Ngb",
        "colab_type": "text"
      },
      "cell_type": "markdown",
      "source": [
        "### Display the first 5 rows of the dataset"
      ]
    },
    {
      "metadata": {
        "id": "XEg6BoR8XtTH",
        "colab_type": "code",
        "outputId": "36bef3a7-418a-40f9-96ef-634f2b26a891",
        "colab": {
          "base_uri": "https://localhost:8080/",
          "height": 125
        }
      },
      "cell_type": "code",
      "source": [
        "df1.head()"
      ],
      "execution_count": 0,
      "outputs": [
        {
          "output_type": "execute_result",
          "data": {
            "text/plain": [
              "0    3.79\n",
              "1    2.03\n",
              "2    6.94\n",
              "3    2.55\n",
              "4    4.09\n",
              "Name: PCT_HISPANIC, dtype: float64"
            ]
          },
          "metadata": {
            "tags": []
          },
          "execution_count": 18
        }
      ]
    },
    {
      "metadata": {
        "id": "bj7E-bm04lCF",
        "colab_type": "text"
      },
      "cell_type": "markdown",
      "source": [
        "### Mean, standard, min and max deviation of Hispanic Percentage in US public universities.\n"
      ]
    },
    {
      "metadata": {
        "id": "TQAkKl-K9YaO",
        "colab_type": "code",
        "outputId": "fb607819-62cb-489e-947a-495a3fea0859",
        "colab": {
          "base_uri": "https://localhost:8080/",
          "height": 35
        }
      },
      "cell_type": "code",
      "source": [
        "np.mean(df1)"
      ],
      "execution_count": 0,
      "outputs": [
        {
          "output_type": "execute_result",
          "data": {
            "text/plain": [
              "2.6243333498636843"
            ]
          },
          "metadata": {
            "tags": []
          },
          "execution_count": 6
        }
      ]
    },
    {
      "metadata": {
        "id": "NUOn_-C4AsID",
        "colab_type": "code",
        "outputId": "99b5d6b4-ad93-455c-88c7-db6de3b3838c",
        "colab": {
          "base_uri": "https://localhost:8080/",
          "height": 35
        }
      },
      "cell_type": "code",
      "source": [
        "df1.std()"
      ],
      "execution_count": 0,
      "outputs": [
        {
          "output_type": "execute_result",
          "data": {
            "text/plain": [
              "1.3860156153276508"
            ]
          },
          "metadata": {
            "tags": []
          },
          "execution_count": 7
        }
      ]
    },
    {
      "metadata": {
        "id": "c7IafqHZBz8M",
        "colab_type": "code",
        "outputId": "62ccaff6-ee35-493c-dd5d-d7c40142d552",
        "colab": {
          "base_uri": "https://localhost:8080/",
          "height": 35
        }
      },
      "cell_type": "code",
      "source": [
        "df1.max()"
      ],
      "execution_count": 0,
      "outputs": [
        {
          "output_type": "execute_result",
          "data": {
            "text/plain": [
              "6.94000005722046"
            ]
          },
          "metadata": {
            "tags": []
          },
          "execution_count": 11
        }
      ]
    },
    {
      "metadata": {
        "id": "fN8S-vi8BT9P",
        "colab_type": "code",
        "outputId": "b83f18dc-8c28-4a86-ff63-ce327f67542f",
        "colab": {
          "base_uri": "https://localhost:8080/",
          "height": 35
        }
      },
      "cell_type": "code",
      "source": [
        "df1.min()"
      ],
      "execution_count": 0,
      "outputs": [
        {
          "output_type": "execute_result",
          "data": {
            "text/plain": [
              "1.00999999046325"
            ]
          },
          "metadata": {
            "tags": []
          },
          "execution_count": 12
        }
      ]
    }
  ]
}