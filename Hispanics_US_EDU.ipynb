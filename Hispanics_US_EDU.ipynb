{
  "nbformat": 4,
  "nbformat_minor": 0,
  "metadata": {
    "colab": {
      "name": "HW1.ipynb",
      "version": "0.3.2",
      "provenance": []
    },
    "kernelspec": {
      "name": "python3",
      "display_name": "Python 3"
    }
  },
  "cells": [
    {
      "metadata": {
        "id": "fJEdzLjBfPu1",
        "colab_type": "code",
        "colab": {}
      },
      "cell_type": "code",
      "source": [
        "import numpy as np\n",
        "import pandas as pd"
      ],
      "execution_count": 0,
      "outputs": []
    },
    {
      "metadata": {
        "id": "Owf26CAOmKKJ",
        "colab_type": "text"
      },
      "cell_type": "markdown",
      "source": [
        "# Most Recent Treasury\n",
        "\n",
        "We will find the average percentage of hispanics in US universities."
      ]
    },
    {
      "metadata": {
        "id": "noYU4oqdfYl1",
        "colab_type": "code",
        "outputId": "e89c58f2-c8d3-49a2-c2d3-17da6f8eeb9a",
        "colab": {
          "base_uri": "https://localhost:8080/",
          "height": 440
        }
      },
      "cell_type": "code",
      "source": [
        "f = pd.read_csv(\"https://ed-public-download.app.cloud.gov/downloads/Most-Recent-Cohorts-Treasury-Elements.csv\")\n",
        "f.head()"
      ],
      "execution_count": 0,
      "outputs": [
        {
          "output_type": "execute_result",
          "data": {
            "text/html": [
              "<div>\n",
              "<style scoped>\n",
              "    .dataframe tbody tr th:only-of-type {\n",
              "        vertical-align: middle;\n",
              "    }\n",
              "\n",
              "    .dataframe tbody tr th {\n",
              "        vertical-align: top;\n",
              "    }\n",
              "\n",
              "    .dataframe thead th {\n",
              "        text-align: right;\n",
              "    }\n",
              "</style>\n",
              "<table border=\"1\" class=\"dataframe\">\n",
              "  <thead>\n",
              "    <tr style=\"text-align: right;\">\n",
              "      <th></th>\n",
              "      <th>UNITID</th>\n",
              "      <th>OPEID</th>\n",
              "      <th>OPEID6</th>\n",
              "      <th>INSTNM</th>\n",
              "      <th>COUNT_ED</th>\n",
              "      <th>AGEGE24</th>\n",
              "      <th>PCT_WHITE</th>\n",
              "      <th>PCT_BLACK</th>\n",
              "      <th>PCT_ASIAN</th>\n",
              "      <th>PCT_HISPANIC</th>\n",
              "      <th>...</th>\n",
              "      <th>SD_EARN_WNE_P8</th>\n",
              "      <th>GT_25K_P8</th>\n",
              "      <th>COUNT_NWNE_P9</th>\n",
              "      <th>COUNT_WNE_P9</th>\n",
              "      <th>MN_EARN_WNE_P9</th>\n",
              "      <th>SD_EARN_WNE_P9</th>\n",
              "      <th>GT_25K_P9</th>\n",
              "      <th>GT_28K_P10</th>\n",
              "      <th>GT_28K_P8</th>\n",
              "      <th>GT_28K_P6</th>\n",
              "    </tr>\n",
              "  </thead>\n",
              "  <tbody>\n",
              "    <tr>\n",
              "      <th>0</th>\n",
              "      <td>100654</td>\n",
              "      <td>100200</td>\n",
              "      <td>1002</td>\n",
              "      <td>Alabama A &amp; M University</td>\n",
              "      <td>NaN</td>\n",
              "      <td>0.07999999821186</td>\n",
              "      <td>46.8400001525878</td>\n",
              "      <td>47.9799995422363</td>\n",
              "      <td>1.48000001907348</td>\n",
              "      <td>3.78999996185302</td>\n",
              "      <td>...</td>\n",
              "      <td>20100</td>\n",
              "      <td>0.544</td>\n",
              "      <td>215</td>\n",
              "      <td>1480</td>\n",
              "      <td>33800</td>\n",
              "      <td>27500</td>\n",
              "      <td>0.58783781528472</td>\n",
              "      <td>0.567</td>\n",
              "      <td>0.483</td>\n",
              "      <td>0.431</td>\n",
              "    </tr>\n",
              "    <tr>\n",
              "      <th>1</th>\n",
              "      <td>100663</td>\n",
              "      <td>105200</td>\n",
              "      <td>1052</td>\n",
              "      <td>University of Alabama at Birmingham</td>\n",
              "      <td>NaN</td>\n",
              "      <td>0.25999999046325</td>\n",
              "      <td>69.0199966430664</td>\n",
              "      <td>27.7600002288818</td>\n",
              "      <td>1.10000002384185</td>\n",
              "      <td>2.02999997138977</td>\n",
              "      <td>...</td>\n",
              "      <td>36500</td>\n",
              "      <td>0.722</td>\n",
              "      <td>347</td>\n",
              "      <td>2592</td>\n",
              "      <td>44500</td>\n",
              "      <td>38600</td>\n",
              "      <td>0.73726850748062</td>\n",
              "      <td>0.726</td>\n",
              "      <td>0.686</td>\n",
              "      <td>0.631</td>\n",
              "    </tr>\n",
              "    <tr>\n",
              "      <th>2</th>\n",
              "      <td>100690</td>\n",
              "      <td>2503400</td>\n",
              "      <td>25034</td>\n",
              "      <td>Amridge University</td>\n",
              "      <td>NaN</td>\n",
              "      <td>0.82999998331069</td>\n",
              "      <td>70.8799972534179</td>\n",
              "      <td>22.5300006866455</td>\n",
              "      <td>1.28999996185302</td>\n",
              "      <td>6.94000005722046</td>\n",
              "      <td>...</td>\n",
              "      <td>33900</td>\n",
              "      <td>0.668</td>\n",
              "      <td>41</td>\n",
              "      <td>174</td>\n",
              "      <td>42400</td>\n",
              "      <td>30500</td>\n",
              "      <td>0.7356321811676</td>\n",
              "      <td>0.7</td>\n",
              "      <td>0.631</td>\n",
              "      <td>0.542</td>\n",
              "    </tr>\n",
              "    <tr>\n",
              "      <th>3</th>\n",
              "      <td>100706</td>\n",
              "      <td>105500</td>\n",
              "      <td>1055</td>\n",
              "      <td>University of Alabama in Huntsville</td>\n",
              "      <td>NaN</td>\n",
              "      <td>0.28999999165534</td>\n",
              "      <td>76.3799972534179</td>\n",
              "      <td>18.9799995422363</td>\n",
              "      <td>1.41999995708465</td>\n",
              "      <td>2.54999995231628</td>\n",
              "      <td>...</td>\n",
              "      <td>28400</td>\n",
              "      <td>0.73</td>\n",
              "      <td>152</td>\n",
              "      <td>1106</td>\n",
              "      <td>50200</td>\n",
              "      <td>37700</td>\n",
              "      <td>0.78119349479675</td>\n",
              "      <td>0.755</td>\n",
              "      <td>0.71</td>\n",
              "      <td>0.649</td>\n",
              "    </tr>\n",
              "    <tr>\n",
              "      <th>4</th>\n",
              "      <td>100724</td>\n",
              "      <td>100500</td>\n",
              "      <td>1005</td>\n",
              "      <td>Alabama State University</td>\n",
              "      <td>NaN</td>\n",
              "      <td>0.10999999940395</td>\n",
              "      <td>42.6899986267089</td>\n",
              "      <td>52.3199996948242</td>\n",
              "      <td>1.40999996662139</td>\n",
              "      <td>4.09000015258789</td>\n",
              "      <td>...</td>\n",
              "      <td>18000</td>\n",
              "      <td>0.468</td>\n",
              "      <td>297</td>\n",
              "      <td>1810</td>\n",
              "      <td>29400</td>\n",
              "      <td>20000</td>\n",
              "      <td>0.52983427047729</td>\n",
              "      <td>0.494</td>\n",
              "      <td>0.436</td>\n",
              "      <td>0.351</td>\n",
              "    </tr>\n",
              "  </tbody>\n",
              "</table>\n",
              "<p>5 rows × 92 columns</p>\n",
              "</div>"
            ],
            "text/plain": [
              "   UNITID    OPEID  OPEID6                               INSTNM  COUNT_ED  \\\n",
              "0  100654   100200    1002             Alabama A & M University       NaN   \n",
              "1  100663   105200    1052  University of Alabama at Birmingham       NaN   \n",
              "2  100690  2503400   25034                   Amridge University       NaN   \n",
              "3  100706   105500    1055  University of Alabama in Huntsville       NaN   \n",
              "4  100724   100500    1005             Alabama State University       NaN   \n",
              "\n",
              "            AGEGE24         PCT_WHITE         PCT_BLACK         PCT_ASIAN  \\\n",
              "0  0.07999999821186  46.8400001525878  47.9799995422363  1.48000001907348   \n",
              "1  0.25999999046325  69.0199966430664  27.7600002288818  1.10000002384185   \n",
              "2  0.82999998331069  70.8799972534179  22.5300006866455  1.28999996185302   \n",
              "3  0.28999999165534  76.3799972534179  18.9799995422363  1.41999995708465   \n",
              "4  0.10999999940395  42.6899986267089  52.3199996948242  1.40999996662139   \n",
              "\n",
              "       PCT_HISPANIC    ...    SD_EARN_WNE_P8 GT_25K_P8 COUNT_NWNE_P9  \\\n",
              "0  3.78999996185302    ...             20100     0.544           215   \n",
              "1  2.02999997138977    ...             36500     0.722           347   \n",
              "2  6.94000005722046    ...             33900     0.668            41   \n",
              "3  2.54999995231628    ...             28400      0.73           152   \n",
              "4  4.09000015258789    ...             18000     0.468           297   \n",
              "\n",
              "  COUNT_WNE_P9 MN_EARN_WNE_P9 SD_EARN_WNE_P9         GT_25K_P9 GT_28K_P10  \\\n",
              "0         1480          33800          27500  0.58783781528472      0.567   \n",
              "1         2592          44500          38600  0.73726850748062      0.726   \n",
              "2          174          42400          30500   0.7356321811676        0.7   \n",
              "3         1106          50200          37700  0.78119349479675      0.755   \n",
              "4         1810          29400          20000  0.52983427047729      0.494   \n",
              "\n",
              "  GT_28K_P8 GT_28K_P6  \n",
              "0     0.483     0.431  \n",
              "1     0.686     0.631  \n",
              "2     0.631     0.542  \n",
              "3      0.71     0.649  \n",
              "4     0.436     0.351  \n",
              "\n",
              "[5 rows x 92 columns]"
            ]
          },
          "metadata": {
            "tags": []
          },
          "execution_count": 3
        }
      ]
    },
    {
      "metadata": {
        "id": "LAbeXkja4CMj",
        "colab_type": "text"
      },
      "cell_type": "markdown",
      "source": [
        "### Read the dataset into a DataFrame using Pandas."
      ]
    },
    {
      "metadata": {
        "id": "JV93q_AhnnBB",
        "colab_type": "code",
        "colab": {}
      },
      "cell_type": "code",
      "source": [
        "df = pd.DataFrame(f, columns=['PCT_HISPANIC']) # removed NaN values\n",
        "\n",
        "\n",
        "df = df.dropna()\n",
        "\n"
      ],
      "execution_count": 0,
      "outputs": []
    },
    {
      "metadata": {
        "id": "IM-iovkaNDND",
        "colab_type": "code",
        "outputId": "8fb585ed-595a-43e4-e723-bcc2d4515939",
        "colab": {
          "base_uri": "https://localhost:8080/",
          "height": 125
        }
      },
      "cell_type": "code",
      "source": [
        "df.info()"
      ],
      "execution_count": 0,
      "outputs": [
        {
          "output_type": "stream",
          "text": [
            "<class 'pandas.core.frame.DataFrame'>\n",
            "Int64Index: 5142 entries, 0 to 7081\n",
            "Data columns (total 1 columns):\n",
            "PCT_HISPANIC    5142 non-null object\n",
            "dtypes: object(1)\n",
            "memory usage: 80.3+ KB\n"
          ],
          "name": "stdout"
        }
      ]
    },
    {
      "metadata": {
        "id": "8AMypI4bNThv",
        "colab_type": "code",
        "outputId": "2c2bc8da-dc29-45e5-c20a-571397848c2c",
        "colab": {
          "base_uri": "https://localhost:8080/",
          "height": 53
        }
      },
      "cell_type": "code",
      "source": [
        "df.applymap(np.isreal).all()"
      ],
      "execution_count": 0,
      "outputs": [
        {
          "output_type": "execute_result",
          "data": {
            "text/plain": [
              "PCT_HISPANIC    False\n",
              "dtype: bool"
            ]
          },
          "metadata": {
            "tags": []
          },
          "execution_count": 11
        }
      ]
    },
    {
      "metadata": {
        "id": "UgyImMXqN_k1",
        "colab_type": "code",
        "outputId": "67bdbb50-407b-48cf-aa81-9341dcb87a00",
        "colab": {
          "base_uri": "https://localhost:8080/",
          "height": 53
        }
      },
      "cell_type": "code",
      "source": [
        "print(str.isalpha('0'))\n",
        "print(str.isalpha('a'))\n",
        "# is it in the alphabet?\n",
        "# [str.isalpha(x) for x in df['PCT_HISPANIC']]"
      ],
      "execution_count": 0,
      "outputs": [
        {
          "output_type": "stream",
          "text": [
            "False\n",
            "True\n"
          ],
          "name": "stdout"
        }
      ]
    },
    {
      "metadata": {
        "id": "FtcrlpVnOb7Q",
        "colab_type": "code",
        "outputId": "5906554d-5dc1-4f6c-9f36-6af79e6aa407",
        "colab": {
          "base_uri": "https://localhost:8080/",
          "height": 204
        }
      },
      "cell_type": "code",
      "source": [
        "df[[str.isalpha(x) for x in df['PCT_HISPANIC']]].head()"
      ],
      "execution_count": 0,
      "outputs": [
        {
          "output_type": "execute_result",
          "data": {
            "text/html": [
              "<div>\n",
              "<style scoped>\n",
              "    .dataframe tbody tr th:only-of-type {\n",
              "        vertical-align: middle;\n",
              "    }\n",
              "\n",
              "    .dataframe tbody tr th {\n",
              "        vertical-align: top;\n",
              "    }\n",
              "\n",
              "    .dataframe thead th {\n",
              "        text-align: right;\n",
              "    }\n",
              "</style>\n",
              "<table border=\"1\" class=\"dataframe\">\n",
              "  <thead>\n",
              "    <tr style=\"text-align: right;\">\n",
              "      <th></th>\n",
              "      <th>PCT_HISPANIC</th>\n",
              "    </tr>\n",
              "  </thead>\n",
              "  <tbody>\n",
              "    <tr>\n",
              "      <th>185</th>\n",
              "      <td>PrivacySuppressed</td>\n",
              "    </tr>\n",
              "    <tr>\n",
              "      <th>192</th>\n",
              "      <td>PrivacySuppressed</td>\n",
              "    </tr>\n",
              "    <tr>\n",
              "      <th>309</th>\n",
              "      <td>PrivacySuppressed</td>\n",
              "    </tr>\n",
              "    <tr>\n",
              "      <th>326</th>\n",
              "      <td>PrivacySuppressed</td>\n",
              "    </tr>\n",
              "    <tr>\n",
              "      <th>333</th>\n",
              "      <td>PrivacySuppressed</td>\n",
              "    </tr>\n",
              "  </tbody>\n",
              "</table>\n",
              "</div>"
            ],
            "text/plain": [
              "          PCT_HISPANIC\n",
              "185  PrivacySuppressed\n",
              "192  PrivacySuppressed\n",
              "309  PrivacySuppressed\n",
              "326  PrivacySuppressed\n",
              "333  PrivacySuppressed"
            ]
          },
          "metadata": {
            "tags": []
          },
          "execution_count": 16
        }
      ]
    },
    {
      "metadata": {
        "id": "UDo3lWvTO-tx",
        "colab_type": "code",
        "outputId": "7dc57cb7-c7d5-433e-a618-f96712d96f82",
        "colab": {
          "base_uri": "https://localhost:8080/",
          "height": 35
        }
      },
      "cell_type": "code",
      "source": [
        "sum([str.isalpha(x) for x in df['PCT_HISPANIC']])"
      ],
      "execution_count": 0,
      "outputs": [
        {
          "output_type": "execute_result",
          "data": {
            "text/plain": [
              "90"
            ]
          },
          "metadata": {
            "tags": []
          },
          "execution_count": 20
        }
      ]
    },
    {
      "metadata": {
        "id": "IBI2XNtuPRei",
        "colab_type": "code",
        "outputId": "10221032-5517-43bc-c06e-1115aff2f51d",
        "colab": {
          "base_uri": "https://localhost:8080/",
          "height": 35
        }
      },
      "cell_type": "code",
      "source": [
        "d1 = df[[not str.isalpha(x) for x in df['PCT_HISPANIC']]]\n",
        "d1.head()\n",
        "#d1.info()"
      ],
      "execution_count": 0,
      "outputs": [
        {
          "output_type": "execute_result",
          "data": {
            "text/plain": [
              "Series([], dtype: float64)"
            ]
          },
          "metadata": {
            "tags": []
          },
          "execution_count": 37
        }
      ]
    },
    {
      "metadata": {
        "id": "9jmqDZ0_QfV-",
        "colab_type": "code",
        "colab": {}
      },
      "cell_type": "code",
      "source": [
        ""
      ],
      "execution_count": 0,
      "outputs": []
    },
    {
      "metadata": {
        "id": "o_o4AnOOQYeb",
        "colab_type": "text"
      },
      "cell_type": "markdown",
      "source": [
        "\n",
        "\n",
        "\n",
        "---\n",
        "\n",
        "\n",
        "\n",
        "---\n",
        "\n",
        "\n",
        "\n",
        "---\n",
        "\n",
        "\n",
        "\n",
        "---\n",
        "\n",
        "\n",
        "---\n"
      ]
    },
    {
      "metadata": {
        "id": "yvkdM752J4CU",
        "colab_type": "code",
        "outputId": "17221f13-f51e-48b0-b21f-fc87c71e72c5",
        "colab": {
          "base_uri": "https://localhost:8080/",
          "height": 35
        }
      },
      "cell_type": "code",
      "source": [
        "df1 = df.head(30)\n",
        "  \n",
        "df1 = pd.to_numeric(df1['PCT_HISPANIC'])\n",
        "\n",
        "np.mean(df1)"
      ],
      "execution_count": 0,
      "outputs": [
        {
          "output_type": "execute_result",
          "data": {
            "text/plain": [
              "2.6243333498636843"
            ]
          },
          "metadata": {
            "tags": []
          },
          "execution_count": 133
        }
      ]
    },
    {
      "metadata": {
        "id": "P3x7lnUbGnHt",
        "colab_type": "code",
        "colab": {}
      },
      "cell_type": "code",
      "source": [
        "#pd.to_numeric(n2)\n",
        "#nppNum = np.asfarray(npp,float)\n",
        "#nppNum\n",
        "npp = np.array(df['PCT_HISPANIC'])\n",
        "#df.dtype\n",
        "n2 = np.array(npp, copy=True)  \n",
        "#n2\n",
        "df.drop(['PrivacySuppressed', 'NULL'])\n",
        "df.dtype"
      ],
      "execution_count": 0,
      "outputs": []
    },
    {
      "metadata": {
        "id": "Gi0xEvAp4Ngb",
        "colab_type": "text"
      },
      "cell_type": "markdown",
      "source": [
        "### Display the first 5 rows of the dataset"
      ]
    },
    {
      "metadata": {
        "id": "-uhd3-2g4QEv",
        "colab_type": "code",
        "outputId": "1debce2d-2f73-4702-c0b7-a76103758f21",
        "colab": {
          "base_uri": "https://localhost:8080/",
          "height": 440
        }
      },
      "cell_type": "code",
      "source": [
        "f.head()"
      ],
      "execution_count": 0,
      "outputs": [
        {
          "output_type": "execute_result",
          "data": {
            "text/html": [
              "<div>\n",
              "<style scoped>\n",
              "    .dataframe tbody tr th:only-of-type {\n",
              "        vertical-align: middle;\n",
              "    }\n",
              "\n",
              "    .dataframe tbody tr th {\n",
              "        vertical-align: top;\n",
              "    }\n",
              "\n",
              "    .dataframe thead th {\n",
              "        text-align: right;\n",
              "    }\n",
              "</style>\n",
              "<table border=\"1\" class=\"dataframe\">\n",
              "  <thead>\n",
              "    <tr style=\"text-align: right;\">\n",
              "      <th></th>\n",
              "      <th>UNITID</th>\n",
              "      <th>OPEID</th>\n",
              "      <th>OPEID6</th>\n",
              "      <th>INSTNM</th>\n",
              "      <th>COUNT_ED</th>\n",
              "      <th>AGEGE24</th>\n",
              "      <th>PCT_WHITE</th>\n",
              "      <th>PCT_BLACK</th>\n",
              "      <th>PCT_ASIAN</th>\n",
              "      <th>PCT_HISPANIC</th>\n",
              "      <th>...</th>\n",
              "      <th>SD_EARN_WNE_P8</th>\n",
              "      <th>GT_25K_P8</th>\n",
              "      <th>COUNT_NWNE_P9</th>\n",
              "      <th>COUNT_WNE_P9</th>\n",
              "      <th>MN_EARN_WNE_P9</th>\n",
              "      <th>SD_EARN_WNE_P9</th>\n",
              "      <th>GT_25K_P9</th>\n",
              "      <th>GT_28K_P10</th>\n",
              "      <th>GT_28K_P8</th>\n",
              "      <th>GT_28K_P6</th>\n",
              "    </tr>\n",
              "  </thead>\n",
              "  <tbody>\n",
              "    <tr>\n",
              "      <th>0</th>\n",
              "      <td>100654</td>\n",
              "      <td>100200</td>\n",
              "      <td>1002</td>\n",
              "      <td>Alabama A &amp; M University</td>\n",
              "      <td>NaN</td>\n",
              "      <td>0.07999999821186</td>\n",
              "      <td>46.8400001525878</td>\n",
              "      <td>47.9799995422363</td>\n",
              "      <td>1.48000001907348</td>\n",
              "      <td>3.78999996185302</td>\n",
              "      <td>...</td>\n",
              "      <td>20100</td>\n",
              "      <td>0.544</td>\n",
              "      <td>215</td>\n",
              "      <td>1480</td>\n",
              "      <td>33800</td>\n",
              "      <td>27500</td>\n",
              "      <td>0.58783781528472</td>\n",
              "      <td>0.567</td>\n",
              "      <td>0.483</td>\n",
              "      <td>0.431</td>\n",
              "    </tr>\n",
              "    <tr>\n",
              "      <th>1</th>\n",
              "      <td>100663</td>\n",
              "      <td>105200</td>\n",
              "      <td>1052</td>\n",
              "      <td>University of Alabama at Birmingham</td>\n",
              "      <td>NaN</td>\n",
              "      <td>0.25999999046325</td>\n",
              "      <td>69.0199966430664</td>\n",
              "      <td>27.7600002288818</td>\n",
              "      <td>1.10000002384185</td>\n",
              "      <td>2.02999997138977</td>\n",
              "      <td>...</td>\n",
              "      <td>36500</td>\n",
              "      <td>0.722</td>\n",
              "      <td>347</td>\n",
              "      <td>2592</td>\n",
              "      <td>44500</td>\n",
              "      <td>38600</td>\n",
              "      <td>0.73726850748062</td>\n",
              "      <td>0.726</td>\n",
              "      <td>0.686</td>\n",
              "      <td>0.631</td>\n",
              "    </tr>\n",
              "    <tr>\n",
              "      <th>2</th>\n",
              "      <td>100690</td>\n",
              "      <td>2503400</td>\n",
              "      <td>25034</td>\n",
              "      <td>Amridge University</td>\n",
              "      <td>NaN</td>\n",
              "      <td>0.82999998331069</td>\n",
              "      <td>70.8799972534179</td>\n",
              "      <td>22.5300006866455</td>\n",
              "      <td>1.28999996185302</td>\n",
              "      <td>6.94000005722046</td>\n",
              "      <td>...</td>\n",
              "      <td>33900</td>\n",
              "      <td>0.668</td>\n",
              "      <td>41</td>\n",
              "      <td>174</td>\n",
              "      <td>42400</td>\n",
              "      <td>30500</td>\n",
              "      <td>0.7356321811676</td>\n",
              "      <td>0.7</td>\n",
              "      <td>0.631</td>\n",
              "      <td>0.542</td>\n",
              "    </tr>\n",
              "    <tr>\n",
              "      <th>3</th>\n",
              "      <td>100706</td>\n",
              "      <td>105500</td>\n",
              "      <td>1055</td>\n",
              "      <td>University of Alabama in Huntsville</td>\n",
              "      <td>NaN</td>\n",
              "      <td>0.28999999165534</td>\n",
              "      <td>76.3799972534179</td>\n",
              "      <td>18.9799995422363</td>\n",
              "      <td>1.41999995708465</td>\n",
              "      <td>2.54999995231628</td>\n",
              "      <td>...</td>\n",
              "      <td>28400</td>\n",
              "      <td>0.73</td>\n",
              "      <td>152</td>\n",
              "      <td>1106</td>\n",
              "      <td>50200</td>\n",
              "      <td>37700</td>\n",
              "      <td>0.78119349479675</td>\n",
              "      <td>0.755</td>\n",
              "      <td>0.71</td>\n",
              "      <td>0.649</td>\n",
              "    </tr>\n",
              "    <tr>\n",
              "      <th>4</th>\n",
              "      <td>100724</td>\n",
              "      <td>100500</td>\n",
              "      <td>1005</td>\n",
              "      <td>Alabama State University</td>\n",
              "      <td>NaN</td>\n",
              "      <td>0.10999999940395</td>\n",
              "      <td>42.6899986267089</td>\n",
              "      <td>52.3199996948242</td>\n",
              "      <td>1.40999996662139</td>\n",
              "      <td>4.09000015258789</td>\n",
              "      <td>...</td>\n",
              "      <td>18000</td>\n",
              "      <td>0.468</td>\n",
              "      <td>297</td>\n",
              "      <td>1810</td>\n",
              "      <td>29400</td>\n",
              "      <td>20000</td>\n",
              "      <td>0.52983427047729</td>\n",
              "      <td>0.494</td>\n",
              "      <td>0.436</td>\n",
              "      <td>0.351</td>\n",
              "    </tr>\n",
              "  </tbody>\n",
              "</table>\n",
              "<p>5 rows × 92 columns</p>\n",
              "</div>"
            ],
            "text/plain": [
              "   UNITID    OPEID  OPEID6                               INSTNM  COUNT_ED  \\\n",
              "0  100654   100200    1002             Alabama A & M University       NaN   \n",
              "1  100663   105200    1052  University of Alabama at Birmingham       NaN   \n",
              "2  100690  2503400   25034                   Amridge University       NaN   \n",
              "3  100706   105500    1055  University of Alabama in Huntsville       NaN   \n",
              "4  100724   100500    1005             Alabama State University       NaN   \n",
              "\n",
              "            AGEGE24         PCT_WHITE         PCT_BLACK         PCT_ASIAN  \\\n",
              "0  0.07999999821186  46.8400001525878  47.9799995422363  1.48000001907348   \n",
              "1  0.25999999046325  69.0199966430664  27.7600002288818  1.10000002384185   \n",
              "2  0.82999998331069  70.8799972534179  22.5300006866455  1.28999996185302   \n",
              "3  0.28999999165534  76.3799972534179  18.9799995422363  1.41999995708465   \n",
              "4  0.10999999940395  42.6899986267089  52.3199996948242  1.40999996662139   \n",
              "\n",
              "       PCT_HISPANIC    ...    SD_EARN_WNE_P8 GT_25K_P8 COUNT_NWNE_P9  \\\n",
              "0  3.78999996185302    ...             20100     0.544           215   \n",
              "1  2.02999997138977    ...             36500     0.722           347   \n",
              "2  6.94000005722046    ...             33900     0.668            41   \n",
              "3  2.54999995231628    ...             28400      0.73           152   \n",
              "4  4.09000015258789    ...             18000     0.468           297   \n",
              "\n",
              "  COUNT_WNE_P9 MN_EARN_WNE_P9 SD_EARN_WNE_P9         GT_25K_P9 GT_28K_P10  \\\n",
              "0         1480          33800          27500  0.58783781528472      0.567   \n",
              "1         2592          44500          38600  0.73726850748062      0.726   \n",
              "2          174          42400          30500   0.7356321811676        0.7   \n",
              "3         1106          50200          37700  0.78119349479675      0.755   \n",
              "4         1810          29400          20000  0.52983427047729      0.494   \n",
              "\n",
              "  GT_28K_P8 GT_28K_P6  \n",
              "0     0.483     0.431  \n",
              "1     0.686     0.631  \n",
              "2     0.631     0.542  \n",
              "3      0.71     0.649  \n",
              "4     0.436     0.351  \n",
              "\n",
              "[5 rows x 92 columns]"
            ]
          },
          "metadata": {
            "tags": []
          },
          "execution_count": 4
        }
      ]
    },
    {
      "metadata": {
        "id": "bj7E-bm04lCF",
        "colab_type": "text"
      },
      "cell_type": "markdown",
      "source": [
        "### Mean, standard, min and max deviation of Hispanic Percentage in US public universities.\n"
      ]
    },
    {
      "metadata": {
        "id": "TQAkKl-K9YaO",
        "colab_type": "code",
        "outputId": "c0dc13e5-73ab-4d91-d334-9163247d8062",
        "colab": {
          "base_uri": "https://localhost:8080/",
          "height": 35
        }
      },
      "cell_type": "code",
      "source": [
        "type(df)"
      ],
      "execution_count": 0,
      "outputs": [
        {
          "output_type": "execute_result",
          "data": {
            "text/plain": [
              "pandas.core.frame.DataFrame"
            ]
          },
          "metadata": {
            "tags": []
          },
          "execution_count": 8
        }
      ]
    },
    {
      "metadata": {
        "id": "BTuTYUI0AMxL",
        "colab_type": "code",
        "outputId": "cd66e5b3-8776-45ec-94a2-0bf533ef1c99",
        "colab": {
          "base_uri": "https://localhost:8080/",
          "height": 35
        }
      },
      "cell_type": "code",
      "source": [
        "df.mean()"
      ],
      "execution_count": 0,
      "outputs": [
        {
          "output_type": "execute_result",
          "data": {
            "text/plain": [
              "Series([], dtype: float64)"
            ]
          },
          "metadata": {
            "tags": []
          },
          "execution_count": 9
        }
      ]
    },
    {
      "metadata": {
        "id": "ALAM8vSAAONW",
        "colab_type": "code",
        "colab": {}
      },
      "cell_type": "code",
      "source": [
        "f['PCT_HISPANIC'].mean()"
      ],
      "execution_count": 0,
      "outputs": []
    },
    {
      "metadata": {
        "id": "NUOn_-C4AsID",
        "colab_type": "code",
        "colab": {}
      },
      "cell_type": "code",
      "source": [
        "df['PCT_HISPANIC'].std()"
      ],
      "execution_count": 0,
      "outputs": []
    },
    {
      "metadata": {
        "id": "c7IafqHZBz8M",
        "colab_type": "code",
        "outputId": "febbe726-1239-4059-c3c8-eeec832739b6",
        "colab": {
          "base_uri": "https://localhost:8080/",
          "height": 53
        }
      },
      "cell_type": "code",
      "source": [
        "df.max()"
      ],
      "execution_count": 0,
      "outputs": [
        {
          "output_type": "execute_result",
          "data": {
            "text/plain": [
              "PCT_HISPANIC    PrivacySuppressed\n",
              "dtype: object"
            ]
          },
          "metadata": {
            "tags": []
          },
          "execution_count": 12
        }
      ]
    },
    {
      "metadata": {
        "id": "fN8S-vi8BT9P",
        "colab_type": "code",
        "outputId": "61e7b3f5-7c02-4395-d1d0-3abe301eaa63",
        "colab": {
          "base_uri": "https://localhost:8080/",
          "height": 53
        }
      },
      "cell_type": "code",
      "source": [
        "df.min()"
      ],
      "execution_count": 0,
      "outputs": [
        {
          "output_type": "execute_result",
          "data": {
            "text/plain": [
              "PCT_HISPANIC    0.41\n",
              "dtype: float64"
            ]
          },
          "metadata": {
            "tags": []
          },
          "execution_count": 13
        }
      ]
    },
    {
      "metadata": {
        "id": "CRrzj8Q0Bsb6",
        "colab_type": "code",
        "outputId": "962e9e3c-2918-470b-d722-3df40f6172f3",
        "colab": {
          "base_uri": "https://localhost:8080/",
          "height": 35
        }
      },
      "cell_type": "code",
      "source": [
        "df.keys()"
      ],
      "execution_count": 0,
      "outputs": [
        {
          "output_type": "execute_result",
          "data": {
            "text/plain": [
              "Index(['PCT_HISPANIC'], dtype='object')"
            ]
          },
          "metadata": {
            "tags": []
          },
          "execution_count": 15
        }
      ]
    },
    {
      "metadata": {
        "id": "pjjIb3CM86LZ",
        "colab_type": "code",
        "colab": {}
      },
      "cell_type": "code",
      "source": [
        ""
      ],
      "execution_count": 0,
      "outputs": []
    }
  ]
}